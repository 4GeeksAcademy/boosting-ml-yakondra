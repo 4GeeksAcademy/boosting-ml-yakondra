{
    "cells": [
        {
            "cell_type": "markdown",
            "metadata": {},
            "source": [
                "# Boosting model"
            ]
        },
        {
            "cell_type": "code",
            "execution_count": 173,
            "metadata": {},
            "outputs": [],
            "source": [
                "import pandas as pd \n",
                "import numpy as np\n",
                "import matplotlib.pyplot as plt"
            ]
        },
        {
            "cell_type": "markdown",
            "metadata": {},
            "source": [
                "**Import dataset**"
            ]
        },
        {
            "cell_type": "code",
            "execution_count": 157,
            "metadata": {},
            "outputs": [
                {
                    "data": {
                        "text/html": [
                            "<div>\n",
                            "<style scoped>\n",
                            "    .dataframe tbody tr th:only-of-type {\n",
                            "        vertical-align: middle;\n",
                            "    }\n",
                            "\n",
                            "    .dataframe tbody tr th {\n",
                            "        vertical-align: top;\n",
                            "    }\n",
                            "\n",
                            "    .dataframe thead th {\n",
                            "        text-align: right;\n",
                            "    }\n",
                            "</style>\n",
                            "<table border=\"1\" class=\"dataframe\">\n",
                            "  <thead>\n",
                            "    <tr style=\"text-align: right;\">\n",
                            "      <th></th>\n",
                            "      <th>Pregnancies</th>\n",
                            "      <th>Glucose</th>\n",
                            "      <th>BloodPressure</th>\n",
                            "      <th>SkinThickness</th>\n",
                            "      <th>Insulin</th>\n",
                            "      <th>BMI</th>\n",
                            "      <th>DiabetesPedigreeFunction</th>\n",
                            "      <th>Age</th>\n",
                            "    </tr>\n",
                            "  </thead>\n",
                            "  <tbody>\n",
                            "    <tr>\n",
                            "      <th>53</th>\n",
                            "      <td>8</td>\n",
                            "      <td>176</td>\n",
                            "      <td>90</td>\n",
                            "      <td>34</td>\n",
                            "      <td>300</td>\n",
                            "      <td>33.7</td>\n",
                            "      <td>0.467</td>\n",
                            "      <td>58</td>\n",
                            "    </tr>\n",
                            "    <tr>\n",
                            "      <th>515</th>\n",
                            "      <td>3</td>\n",
                            "      <td>163</td>\n",
                            "      <td>70</td>\n",
                            "      <td>18</td>\n",
                            "      <td>105</td>\n",
                            "      <td>31.6</td>\n",
                            "      <td>0.268</td>\n",
                            "      <td>28</td>\n",
                            "    </tr>\n",
                            "    <tr>\n",
                            "      <th>85</th>\n",
                            "      <td>2</td>\n",
                            "      <td>110</td>\n",
                            "      <td>74</td>\n",
                            "      <td>29</td>\n",
                            "      <td>125</td>\n",
                            "      <td>32.4</td>\n",
                            "      <td>0.698</td>\n",
                            "      <td>27</td>\n",
                            "    </tr>\n",
                            "    <tr>\n",
                            "      <th>389</th>\n",
                            "      <td>3</td>\n",
                            "      <td>100</td>\n",
                            "      <td>68</td>\n",
                            "      <td>23</td>\n",
                            "      <td>81</td>\n",
                            "      <td>31.6</td>\n",
                            "      <td>0.949</td>\n",
                            "      <td>28</td>\n",
                            "    </tr>\n",
                            "    <tr>\n",
                            "      <th>279</th>\n",
                            "      <td>2</td>\n",
                            "      <td>108</td>\n",
                            "      <td>62</td>\n",
                            "      <td>10</td>\n",
                            "      <td>278</td>\n",
                            "      <td>25.3</td>\n",
                            "      <td>0.881</td>\n",
                            "      <td>22</td>\n",
                            "    </tr>\n",
                            "  </tbody>\n",
                            "</table>\n",
                            "</div>"
                        ],
                        "text/plain": [
                            "     Pregnancies  Glucose  BloodPressure  SkinThickness  Insulin   BMI  \\\n",
                            "53             8      176             90             34      300  33.7   \n",
                            "515            3      163             70             18      105  31.6   \n",
                            "85             2      110             74             29      125  32.4   \n",
                            "389            3      100             68             23       81  31.6   \n",
                            "279            2      108             62             10      278  25.3   \n",
                            "\n",
                            "     DiabetesPedigreeFunction  Age  \n",
                            "53                      0.467   58  \n",
                            "515                     0.268   28  \n",
                            "85                      0.698   27  \n",
                            "389                     0.949   28  \n",
                            "279                     0.881   22  "
                        ]
                    },
                    "execution_count": 157,
                    "metadata": {},
                    "output_type": "execute_result"
                }
            ],
            "source": [
                "X_train = pd.read_csv('../data/processed/xtrain.csv', index_col = 0)\n",
                "X_test = pd.read_csv('../data/processed/xtest.csv', index_col = 0)\n",
                "\n",
                "y_test = pd.read_csv('../data/processed/ytest.csv', index_col = 0)\n",
                "y_train = pd.read_csv('../data/processed/ytrain.csv', index_col = 0)\n",
                "\n",
                "# y_test = list(y_test[\"Outcome\"])\n",
                "# y_train = list(y_train[\"Outcome\"])\n",
                "\n",
                "X_train.head()"
            ]
        },
        {
            "cell_type": "markdown",
            "metadata": {},
            "source": [
                "**Model initialisation and training**"
            ]
        },
        {
            "cell_type": "code",
            "execution_count": 158,
            "metadata": {},
            "outputs": [
                {
                    "data": {
                        "text/html": [
                            "<style>#sk-container-id-21 {color: black;}#sk-container-id-21 pre{padding: 0;}#sk-container-id-21 div.sk-toggleable {background-color: white;}#sk-container-id-21 label.sk-toggleable__label {cursor: pointer;display: block;width: 100%;margin-bottom: 0;padding: 0.3em;box-sizing: border-box;text-align: center;}#sk-container-id-21 label.sk-toggleable__label-arrow:before {content: \"▸\";float: left;margin-right: 0.25em;color: #696969;}#sk-container-id-21 label.sk-toggleable__label-arrow:hover:before {color: black;}#sk-container-id-21 div.sk-estimator:hover label.sk-toggleable__label-arrow:before {color: black;}#sk-container-id-21 div.sk-toggleable__content {max-height: 0;max-width: 0;overflow: hidden;text-align: left;background-color: #f0f8ff;}#sk-container-id-21 div.sk-toggleable__content pre {margin: 0.2em;color: black;border-radius: 0.25em;background-color: #f0f8ff;}#sk-container-id-21 input.sk-toggleable__control:checked~div.sk-toggleable__content {max-height: 200px;max-width: 100%;overflow: auto;}#sk-container-id-21 input.sk-toggleable__control:checked~label.sk-toggleable__label-arrow:before {content: \"▾\";}#sk-container-id-21 div.sk-estimator input.sk-toggleable__control:checked~label.sk-toggleable__label {background-color: #d4ebff;}#sk-container-id-21 div.sk-label input.sk-toggleable__control:checked~label.sk-toggleable__label {background-color: #d4ebff;}#sk-container-id-21 input.sk-hidden--visually {border: 0;clip: rect(1px 1px 1px 1px);clip: rect(1px, 1px, 1px, 1px);height: 1px;margin: -1px;overflow: hidden;padding: 0;position: absolute;width: 1px;}#sk-container-id-21 div.sk-estimator {font-family: monospace;background-color: #f0f8ff;border: 1px dotted black;border-radius: 0.25em;box-sizing: border-box;margin-bottom: 0.5em;}#sk-container-id-21 div.sk-estimator:hover {background-color: #d4ebff;}#sk-container-id-21 div.sk-parallel-item::after {content: \"\";width: 100%;border-bottom: 1px solid gray;flex-grow: 1;}#sk-container-id-21 div.sk-label:hover label.sk-toggleable__label {background-color: #d4ebff;}#sk-container-id-21 div.sk-serial::before {content: \"\";position: absolute;border-left: 1px solid gray;box-sizing: border-box;top: 0;bottom: 0;left: 50%;z-index: 0;}#sk-container-id-21 div.sk-serial {display: flex;flex-direction: column;align-items: center;background-color: white;padding-right: 0.2em;padding-left: 0.2em;position: relative;}#sk-container-id-21 div.sk-item {position: relative;z-index: 1;}#sk-container-id-21 div.sk-parallel {display: flex;align-items: stretch;justify-content: center;background-color: white;position: relative;}#sk-container-id-21 div.sk-item::before, #sk-container-id-21 div.sk-parallel-item::before {content: \"\";position: absolute;border-left: 1px solid gray;box-sizing: border-box;top: 0;bottom: 0;left: 50%;z-index: -1;}#sk-container-id-21 div.sk-parallel-item {display: flex;flex-direction: column;z-index: 1;position: relative;background-color: white;}#sk-container-id-21 div.sk-parallel-item:first-child::after {align-self: flex-end;width: 50%;}#sk-container-id-21 div.sk-parallel-item:last-child::after {align-self: flex-start;width: 50%;}#sk-container-id-21 div.sk-parallel-item:only-child::after {width: 0;}#sk-container-id-21 div.sk-dashed-wrapped {border: 1px dashed gray;margin: 0 0.4em 0.5em 0.4em;box-sizing: border-box;padding-bottom: 0.4em;background-color: white;}#sk-container-id-21 div.sk-label label {font-family: monospace;font-weight: bold;display: inline-block;line-height: 1.2em;}#sk-container-id-21 div.sk-label-container {text-align: center;}#sk-container-id-21 div.sk-container {/* jupyter's `normalize.less` sets `[hidden] { display: none; }` but bootstrap.min.css set `[hidden] { display: none !important; }` so we also need the `!important` here to be able to override the default hidden behavior on the sphinx rendered scikit-learn.org. See: https://github.com/scikit-learn/scikit-learn/issues/21755 */display: inline-block !important;position: relative;}#sk-container-id-21 div.sk-text-repr-fallback {display: none;}</style><div id=\"sk-container-id-21\" class=\"sk-top-container\"><div class=\"sk-text-repr-fallback\"><pre>XGBClassifier(base_score=None, booster=None, callbacks=None,\n",
                            "              colsample_bylevel=None, colsample_bynode=None,\n",
                            "              colsample_bytree=None, device=None, early_stopping_rounds=None,\n",
                            "              enable_categorical=False, eval_metric=None, feature_types=None,\n",
                            "              gamma=None, grow_policy=None, importance_type=None,\n",
                            "              interaction_constraints=None, learning_rate=0.001, max_bin=None,\n",
                            "              max_cat_threshold=None, max_cat_to_onehot=None,\n",
                            "              max_delta_step=None, max_depth=None, max_leaves=None,\n",
                            "              min_child_weight=None, missing=nan, monotone_constraints=None,\n",
                            "              multi_strategy=None, n_estimators=200, n_jobs=None,\n",
                            "              num_parallel_tree=None, random_state=11, ...)</pre><b>In a Jupyter environment, please rerun this cell to show the HTML representation or trust the notebook. <br />On GitHub, the HTML representation is unable to render, please try loading this page with nbviewer.org.</b></div><div class=\"sk-container\" hidden><div class=\"sk-item\"><div class=\"sk-estimator sk-toggleable\"><input class=\"sk-toggleable__control sk-hidden--visually\" id=\"sk-estimator-id-23\" type=\"checkbox\" checked><label for=\"sk-estimator-id-23\" class=\"sk-toggleable__label sk-toggleable__label-arrow\">XGBClassifier</label><div class=\"sk-toggleable__content\"><pre>XGBClassifier(base_score=None, booster=None, callbacks=None,\n",
                            "              colsample_bylevel=None, colsample_bynode=None,\n",
                            "              colsample_bytree=None, device=None, early_stopping_rounds=None,\n",
                            "              enable_categorical=False, eval_metric=None, feature_types=None,\n",
                            "              gamma=None, grow_policy=None, importance_type=None,\n",
                            "              interaction_constraints=None, learning_rate=0.001, max_bin=None,\n",
                            "              max_cat_threshold=None, max_cat_to_onehot=None,\n",
                            "              max_delta_step=None, max_depth=None, max_leaves=None,\n",
                            "              min_child_weight=None, missing=nan, monotone_constraints=None,\n",
                            "              multi_strategy=None, n_estimators=200, n_jobs=None,\n",
                            "              num_parallel_tree=None, random_state=11, ...)</pre></div></div></div></div></div>"
                        ],
                        "text/plain": [
                            "XGBClassifier(base_score=None, booster=None, callbacks=None,\n",
                            "              colsample_bylevel=None, colsample_bynode=None,\n",
                            "              colsample_bytree=None, device=None, early_stopping_rounds=None,\n",
                            "              enable_categorical=False, eval_metric=None, feature_types=None,\n",
                            "              gamma=None, grow_policy=None, importance_type=None,\n",
                            "              interaction_constraints=None, learning_rate=0.001, max_bin=None,\n",
                            "              max_cat_threshold=None, max_cat_to_onehot=None,\n",
                            "              max_delta_step=None, max_depth=None, max_leaves=None,\n",
                            "              min_child_weight=None, missing=nan, monotone_constraints=None,\n",
                            "              multi_strategy=None, n_estimators=200, n_jobs=None,\n",
                            "              num_parallel_tree=None, random_state=11, ...)"
                        ]
                    },
                    "execution_count": 158,
                    "metadata": {},
                    "output_type": "execute_result"
                }
            ],
            "source": [
                "from xgboost import XGBClassifier\n",
                "\n",
                "model = XGBClassifier(n_estimators = 200, learning_rate = 0.001, random_state = 11)\n",
                "model.fit(X_train, y_train)"
            ]
        },
        {
            "cell_type": "markdown",
            "metadata": {},
            "source": [
                "**Model prediction**"
            ]
        },
        {
            "cell_type": "code",
            "execution_count": 159,
            "metadata": {},
            "outputs": [
                {
                    "data": {
                        "text/plain": [
                            "array([0, 0, 0, 0, 0, 0, 0, 0, 0, 0, 0, 0, 0, 0, 0, 0, 0, 0, 0, 0, 0, 0,\n",
                            "       0, 0, 0, 0, 0, 0, 0, 0, 0, 0, 0, 0, 0, 0, 0, 0, 0, 0, 0, 0, 0, 0,\n",
                            "       0, 0, 0, 0, 0, 0, 0, 0, 0, 0, 0, 0, 0, 0, 0, 0, 0, 0, 0, 0, 0, 0,\n",
                            "       0, 0, 0, 0, 0, 0, 0, 0, 0, 0, 0, 0, 0, 0, 0, 0, 0, 0, 0, 0, 0, 0,\n",
                            "       0, 0, 0, 0, 0, 0, 0, 0, 0, 0, 0, 0, 0, 0, 0, 0, 0, 0, 0, 0, 0, 0,\n",
                            "       0, 0, 0, 0, 0, 0, 0, 0, 0, 0, 0, 0, 0, 0, 0, 0, 0, 0, 0, 0, 0, 0,\n",
                            "       0, 0, 0, 0, 0, 0, 0, 0, 0, 0, 0, 0, 0, 0, 0, 0, 0, 0, 0, 0, 0, 0,\n",
                            "       0, 0, 0, 0, 0, 0, 0, 0, 0, 0, 0, 0, 0, 0, 0, 0, 0, 0, 0, 0, 0, 0,\n",
                            "       0, 0, 0, 0, 0, 0, 0, 0, 0, 0, 0, 0, 0, 0, 0, 0, 0, 0, 0, 0, 0, 0,\n",
                            "       0, 0, 0, 0, 0, 0, 0, 0, 0, 0, 0, 0, 0, 0, 0, 0, 0, 0, 0, 0, 0, 0,\n",
                            "       0, 0, 0, 0, 0, 0, 0, 0, 0, 0, 0, 0, 0, 0, 0, 0, 0, 0, 0, 0, 0, 0,\n",
                            "       0, 0, 0, 0, 0, 0, 0, 0, 0, 0, 0, 0, 0, 0, 0, 0, 0, 0, 0, 0, 0, 0,\n",
                            "       0, 0, 0, 0, 0, 0, 0, 0, 0, 0, 0, 0, 0, 0, 0, 0, 0, 0, 0, 0, 0, 0,\n",
                            "       0, 0, 0, 0, 0, 0, 0, 0, 0, 0, 0, 0, 0, 0, 0, 0, 0, 0, 0, 0, 0, 0,\n",
                            "       0, 0, 0, 0, 0, 0, 0, 0, 0, 0, 0, 0, 0, 0, 0, 0, 0, 0, 0, 0, 0, 0,\n",
                            "       0, 0, 0, 0, 0, 0, 0, 0, 0, 0, 0, 0, 0, 0, 0, 0, 0, 0, 0, 0, 0, 0,\n",
                            "       0, 0, 0, 0, 0, 0, 0, 0, 0, 0, 0, 0, 0, 0, 0, 0, 0, 0, 0, 0, 0, 0,\n",
                            "       0, 0, 0, 0, 0, 0, 0, 0, 0, 0, 0, 0, 0, 0, 0, 0, 0, 0, 0, 0, 0, 0,\n",
                            "       0, 0, 0, 0, 0, 0, 0, 0, 0, 0, 0, 0, 0, 0, 0, 0, 0, 0, 0, 0, 0, 0,\n",
                            "       0, 0, 0, 0, 0, 0, 0, 0, 0, 0, 0, 0, 0, 0, 0, 0, 0, 0, 0, 0, 0, 0,\n",
                            "       0, 0, 0, 0, 0, 0, 0, 0, 0, 0, 0, 0, 0, 0, 0, 0, 0, 0, 0, 0, 0, 0,\n",
                            "       0, 0, 0, 0, 0, 0, 0, 0, 0, 0, 0, 0, 0, 0, 0, 0, 0, 0, 0, 0, 0, 0])"
                        ]
                    },
                    "execution_count": 159,
                    "metadata": {},
                    "output_type": "execute_result"
                }
            ],
            "source": [
                "y_pred_train = model.predict(X_train)\n",
                "y_pred_train"
            ]
        },
        {
            "cell_type": "code",
            "execution_count": 160,
            "metadata": {},
            "outputs": [
                {
                    "data": {
                        "text/plain": [
                            "0.6756198347107438"
                        ]
                    },
                    "execution_count": 160,
                    "metadata": {},
                    "output_type": "execute_result"
                }
            ],
            "source": [
                "from sklearn.metrics import accuracy_score\n",
                "\n",
                "accuracy_score(y_train, y_pred_train)"
            ]
        },
        {
            "cell_type": "code",
            "execution_count": 161,
            "metadata": {},
            "outputs": [
                {
                    "data": {
                        "text/plain": [
                            "array([0, 0, 0, 0, 0, 0, 0, 0, 0, 0, 0, 0, 0, 0, 0, 0, 0, 0, 0, 0, 0, 0,\n",
                            "       0, 0, 0, 0, 0, 0, 0, 0, 0, 0, 0, 0, 0, 0, 0, 0, 0, 0, 0, 0, 0, 0,\n",
                            "       0, 0, 0, 0, 0, 0, 0, 0, 0, 0, 0, 0, 0, 0, 0, 0, 0, 0, 0, 0, 0, 0,\n",
                            "       0, 0, 0, 0, 0, 0, 0, 0, 0, 0, 0, 0, 0, 0, 0, 0, 0, 0, 0, 0, 0, 0,\n",
                            "       0, 0, 0, 0, 0, 0, 0, 0, 0, 0, 0, 0, 0, 0, 0, 0, 0, 0, 0, 0, 0, 0,\n",
                            "       0, 0, 0, 0, 0, 0, 0, 0, 0, 0, 0])"
                        ]
                    },
                    "execution_count": 161,
                    "metadata": {},
                    "output_type": "execute_result"
                }
            ],
            "source": [
                "y_pred_test = model.predict(X_test)\n",
                "y_pred_test"
            ]
        },
        {
            "cell_type": "code",
            "execution_count": 162,
            "metadata": {},
            "outputs": [
                {
                    "data": {
                        "text/plain": [
                            "0.7355371900826446"
                        ]
                    },
                    "execution_count": 162,
                    "metadata": {},
                    "output_type": "execute_result"
                }
            ],
            "source": [
                "from sklearn.metrics import accuracy_score\n",
                "\n",
                "accuracy_score(y_test, y_pred_test)"
            ]
        },
        {
            "cell_type": "markdown",
            "metadata": {},
            "source": [
                "**Save model without hyperparam**"
            ]
        },
        {
            "cell_type": "code",
            "execution_count": 163,
            "metadata": {},
            "outputs": [],
            "source": [
                "from pickle import dump\n",
                "model.save_model('../models/Boosting_n_estimators-200_learning_rate-0.001_rs-11.json')"
            ]
        },
        {
            "cell_type": "markdown",
            "metadata": {},
            "source": [
                "**Model initialisation and training (With hyperparameters)**"
            ]
        },
        {
            "cell_type": "code",
            "execution_count": 164,
            "metadata": {},
            "outputs": [],
            "source": [
                "from sklearn.metrics import accuracy_score  \n",
                "from xgboost import XGBClassifier\n",
                "\n",
                "# Definition of hyperparameter search space:\n",
                "hyperparams = {\n",
                "    'learning_rate': [0.1, 0.01, 0.2],\n",
                "    'n_estimators': [50, 100, 200],\n",
                "    'max_depth': [3, 5, 7],\n",
                "    'subsample': [0.8, 0.9, 1.0],\n",
                "    'min_samples_split': [2, 5, 10],\n",
                "    'min_samples_leaf': [1, 2, 4],\n",
                "    'max_features': ['sqrt', 0.5, 0.7],\n",
                "    'colsample_bytree': [0.8, 1.0],\n",
                "    'gamma': [0, 1, 5],\n",
                "}\n"
            ]
        },
        {
            "cell_type": "markdown",
            "metadata": {},
            "source": [
                "**Model prediction**"
            ]
        },
        {
            "cell_type": "code",
            "execution_count": 165,
            "metadata": {},
            "outputs": [
                {
                    "data": {
                        "text/html": [
                            "<style>#sk-container-id-22 {color: black;}#sk-container-id-22 pre{padding: 0;}#sk-container-id-22 div.sk-toggleable {background-color: white;}#sk-container-id-22 label.sk-toggleable__label {cursor: pointer;display: block;width: 100%;margin-bottom: 0;padding: 0.3em;box-sizing: border-box;text-align: center;}#sk-container-id-22 label.sk-toggleable__label-arrow:before {content: \"▸\";float: left;margin-right: 0.25em;color: #696969;}#sk-container-id-22 label.sk-toggleable__label-arrow:hover:before {color: black;}#sk-container-id-22 div.sk-estimator:hover label.sk-toggleable__label-arrow:before {color: black;}#sk-container-id-22 div.sk-toggleable__content {max-height: 0;max-width: 0;overflow: hidden;text-align: left;background-color: #f0f8ff;}#sk-container-id-22 div.sk-toggleable__content pre {margin: 0.2em;color: black;border-radius: 0.25em;background-color: #f0f8ff;}#sk-container-id-22 input.sk-toggleable__control:checked~div.sk-toggleable__content {max-height: 200px;max-width: 100%;overflow: auto;}#sk-container-id-22 input.sk-toggleable__control:checked~label.sk-toggleable__label-arrow:before {content: \"▾\";}#sk-container-id-22 div.sk-estimator input.sk-toggleable__control:checked~label.sk-toggleable__label {background-color: #d4ebff;}#sk-container-id-22 div.sk-label input.sk-toggleable__control:checked~label.sk-toggleable__label {background-color: #d4ebff;}#sk-container-id-22 input.sk-hidden--visually {border: 0;clip: rect(1px 1px 1px 1px);clip: rect(1px, 1px, 1px, 1px);height: 1px;margin: -1px;overflow: hidden;padding: 0;position: absolute;width: 1px;}#sk-container-id-22 div.sk-estimator {font-family: monospace;background-color: #f0f8ff;border: 1px dotted black;border-radius: 0.25em;box-sizing: border-box;margin-bottom: 0.5em;}#sk-container-id-22 div.sk-estimator:hover {background-color: #d4ebff;}#sk-container-id-22 div.sk-parallel-item::after {content: \"\";width: 100%;border-bottom: 1px solid gray;flex-grow: 1;}#sk-container-id-22 div.sk-label:hover label.sk-toggleable__label {background-color: #d4ebff;}#sk-container-id-22 div.sk-serial::before {content: \"\";position: absolute;border-left: 1px solid gray;box-sizing: border-box;top: 0;bottom: 0;left: 50%;z-index: 0;}#sk-container-id-22 div.sk-serial {display: flex;flex-direction: column;align-items: center;background-color: white;padding-right: 0.2em;padding-left: 0.2em;position: relative;}#sk-container-id-22 div.sk-item {position: relative;z-index: 1;}#sk-container-id-22 div.sk-parallel {display: flex;align-items: stretch;justify-content: center;background-color: white;position: relative;}#sk-container-id-22 div.sk-item::before, #sk-container-id-22 div.sk-parallel-item::before {content: \"\";position: absolute;border-left: 1px solid gray;box-sizing: border-box;top: 0;bottom: 0;left: 50%;z-index: -1;}#sk-container-id-22 div.sk-parallel-item {display: flex;flex-direction: column;z-index: 1;position: relative;background-color: white;}#sk-container-id-22 div.sk-parallel-item:first-child::after {align-self: flex-end;width: 50%;}#sk-container-id-22 div.sk-parallel-item:last-child::after {align-self: flex-start;width: 50%;}#sk-container-id-22 div.sk-parallel-item:only-child::after {width: 0;}#sk-container-id-22 div.sk-dashed-wrapped {border: 1px dashed gray;margin: 0 0.4em 0.5em 0.4em;box-sizing: border-box;padding-bottom: 0.4em;background-color: white;}#sk-container-id-22 div.sk-label label {font-family: monospace;font-weight: bold;display: inline-block;line-height: 1.2em;}#sk-container-id-22 div.sk-label-container {text-align: center;}#sk-container-id-22 div.sk-container {/* jupyter's `normalize.less` sets `[hidden] { display: none; }` but bootstrap.min.css set `[hidden] { display: none !important; }` so we also need the `!important` here to be able to override the default hidden behavior on the sphinx rendered scikit-learn.org. See: https://github.com/scikit-learn/scikit-learn/issues/21755 */display: inline-block !important;position: relative;}#sk-container-id-22 div.sk-text-repr-fallback {display: none;}</style><div id=\"sk-container-id-22\" class=\"sk-top-container\"><div class=\"sk-text-repr-fallback\"><pre>XGBClassifier(base_score=None, booster=None, callbacks=None,\n",
                            "              colsample_bylevel=None, colsample_bynode=None,\n",
                            "              colsample_bytree=0.8, device=None, early_stopping_rounds=None,\n",
                            "              enable_categorical=False, eval_metric=None, feature_types=None,\n",
                            "              gamma=0, grow_policy=None, importance_type=None,\n",
                            "              interaction_constraints=None, learning_rate=0.1, max_bin=None,\n",
                            "              max_cat_threshold=None, max_cat_to_onehot=None,\n",
                            "              max_delta_step=None, max_depth=5, max_features=&#x27;sqrt&#x27;,\n",
                            "              max_leaves=None, min_child_weight=None, min_samples_leaf=1,\n",
                            "              min_samples_split=2, missing=nan, monotone_constraints=None,\n",
                            "              multi_strategy=None, n_estimators=200, ...)</pre><b>In a Jupyter environment, please rerun this cell to show the HTML representation or trust the notebook. <br />On GitHub, the HTML representation is unable to render, please try loading this page with nbviewer.org.</b></div><div class=\"sk-container\" hidden><div class=\"sk-item\"><div class=\"sk-estimator sk-toggleable\"><input class=\"sk-toggleable__control sk-hidden--visually\" id=\"sk-estimator-id-24\" type=\"checkbox\" checked><label for=\"sk-estimator-id-24\" class=\"sk-toggleable__label sk-toggleable__label-arrow\">XGBClassifier</label><div class=\"sk-toggleable__content\"><pre>XGBClassifier(base_score=None, booster=None, callbacks=None,\n",
                            "              colsample_bylevel=None, colsample_bynode=None,\n",
                            "              colsample_bytree=0.8, device=None, early_stopping_rounds=None,\n",
                            "              enable_categorical=False, eval_metric=None, feature_types=None,\n",
                            "              gamma=0, grow_policy=None, importance_type=None,\n",
                            "              interaction_constraints=None, learning_rate=0.1, max_bin=None,\n",
                            "              max_cat_threshold=None, max_cat_to_onehot=None,\n",
                            "              max_delta_step=None, max_depth=5, max_features=&#x27;sqrt&#x27;,\n",
                            "              max_leaves=None, min_child_weight=None, min_samples_leaf=1,\n",
                            "              min_samples_split=2, missing=nan, monotone_constraints=None,\n",
                            "              multi_strategy=None, n_estimators=200, ...)</pre></div></div></div></div></div>"
                        ],
                        "text/plain": [
                            "XGBClassifier(base_score=None, booster=None, callbacks=None,\n",
                            "              colsample_bylevel=None, colsample_bynode=None,\n",
                            "              colsample_bytree=0.8, device=None, early_stopping_rounds=None,\n",
                            "              enable_categorical=False, eval_metric=None, feature_types=None,\n",
                            "              gamma=0, grow_policy=None, importance_type=None,\n",
                            "              interaction_constraints=None, learning_rate=0.1, max_bin=None,\n",
                            "              max_cat_threshold=None, max_cat_to_onehot=None,\n",
                            "              max_delta_step=None, max_depth=5, max_features='sqrt',\n",
                            "              max_leaves=None, min_child_weight=None, min_samples_leaf=1,\n",
                            "              min_samples_split=2, missing=nan, monotone_constraints=None,\n",
                            "              multi_strategy=None, n_estimators=200, ...)"
                        ]
                    },
                    "execution_count": 165,
                    "metadata": {},
                    "output_type": "execute_result"
                }
            ],
            "source": [
                "from sklearn.model_selection import ParameterGrid\n",
                "\n",
                "accs = []\n",
                "for combination in ParameterGrid(hyperparams):\n",
                "    model = XGBClassifier(**combination)\n",
                "    model.fit(X_train, y_train)\n",
                "    y_pred = model.predict(X_train)\n",
                "    accs.append(accuracy_score(y_train, y_pred))\n",
                "\n",
                "best_acc = max(accs)\n",
                "best_combination = list(ParameterGrid(hyperparams))[accs.index(best_acc)]\n",
                "best_model = XGBClassifier(**best_combination)\n",
                "best_model.fit(X_train, y_train)"
            ]
        },
        {
            "cell_type": "code",
            "execution_count": 166,
            "metadata": {},
            "outputs": [
                {
                    "data": {
                        "text/html": [
                            "<style>#sk-container-id-23 {color: black;}#sk-container-id-23 pre{padding: 0;}#sk-container-id-23 div.sk-toggleable {background-color: white;}#sk-container-id-23 label.sk-toggleable__label {cursor: pointer;display: block;width: 100%;margin-bottom: 0;padding: 0.3em;box-sizing: border-box;text-align: center;}#sk-container-id-23 label.sk-toggleable__label-arrow:before {content: \"▸\";float: left;margin-right: 0.25em;color: #696969;}#sk-container-id-23 label.sk-toggleable__label-arrow:hover:before {color: black;}#sk-container-id-23 div.sk-estimator:hover label.sk-toggleable__label-arrow:before {color: black;}#sk-container-id-23 div.sk-toggleable__content {max-height: 0;max-width: 0;overflow: hidden;text-align: left;background-color: #f0f8ff;}#sk-container-id-23 div.sk-toggleable__content pre {margin: 0.2em;color: black;border-radius: 0.25em;background-color: #f0f8ff;}#sk-container-id-23 input.sk-toggleable__control:checked~div.sk-toggleable__content {max-height: 200px;max-width: 100%;overflow: auto;}#sk-container-id-23 input.sk-toggleable__control:checked~label.sk-toggleable__label-arrow:before {content: \"▾\";}#sk-container-id-23 div.sk-estimator input.sk-toggleable__control:checked~label.sk-toggleable__label {background-color: #d4ebff;}#sk-container-id-23 div.sk-label input.sk-toggleable__control:checked~label.sk-toggleable__label {background-color: #d4ebff;}#sk-container-id-23 input.sk-hidden--visually {border: 0;clip: rect(1px 1px 1px 1px);clip: rect(1px, 1px, 1px, 1px);height: 1px;margin: -1px;overflow: hidden;padding: 0;position: absolute;width: 1px;}#sk-container-id-23 div.sk-estimator {font-family: monospace;background-color: #f0f8ff;border: 1px dotted black;border-radius: 0.25em;box-sizing: border-box;margin-bottom: 0.5em;}#sk-container-id-23 div.sk-estimator:hover {background-color: #d4ebff;}#sk-container-id-23 div.sk-parallel-item::after {content: \"\";width: 100%;border-bottom: 1px solid gray;flex-grow: 1;}#sk-container-id-23 div.sk-label:hover label.sk-toggleable__label {background-color: #d4ebff;}#sk-container-id-23 div.sk-serial::before {content: \"\";position: absolute;border-left: 1px solid gray;box-sizing: border-box;top: 0;bottom: 0;left: 50%;z-index: 0;}#sk-container-id-23 div.sk-serial {display: flex;flex-direction: column;align-items: center;background-color: white;padding-right: 0.2em;padding-left: 0.2em;position: relative;}#sk-container-id-23 div.sk-item {position: relative;z-index: 1;}#sk-container-id-23 div.sk-parallel {display: flex;align-items: stretch;justify-content: center;background-color: white;position: relative;}#sk-container-id-23 div.sk-item::before, #sk-container-id-23 div.sk-parallel-item::before {content: \"\";position: absolute;border-left: 1px solid gray;box-sizing: border-box;top: 0;bottom: 0;left: 50%;z-index: -1;}#sk-container-id-23 div.sk-parallel-item {display: flex;flex-direction: column;z-index: 1;position: relative;background-color: white;}#sk-container-id-23 div.sk-parallel-item:first-child::after {align-self: flex-end;width: 50%;}#sk-container-id-23 div.sk-parallel-item:last-child::after {align-self: flex-start;width: 50%;}#sk-container-id-23 div.sk-parallel-item:only-child::after {width: 0;}#sk-container-id-23 div.sk-dashed-wrapped {border: 1px dashed gray;margin: 0 0.4em 0.5em 0.4em;box-sizing: border-box;padding-bottom: 0.4em;background-color: white;}#sk-container-id-23 div.sk-label label {font-family: monospace;font-weight: bold;display: inline-block;line-height: 1.2em;}#sk-container-id-23 div.sk-label-container {text-align: center;}#sk-container-id-23 div.sk-container {/* jupyter's `normalize.less` sets `[hidden] { display: none; }` but bootstrap.min.css set `[hidden] { display: none !important; }` so we also need the `!important` here to be able to override the default hidden behavior on the sphinx rendered scikit-learn.org. See: https://github.com/scikit-learn/scikit-learn/issues/21755 */display: inline-block !important;position: relative;}#sk-container-id-23 div.sk-text-repr-fallback {display: none;}</style><div id=\"sk-container-id-23\" class=\"sk-top-container\"><div class=\"sk-text-repr-fallback\"><pre>RandomizedSearchCV(cv=5,\n",
                            "                   estimator=XGBClassifier(base_score=None, booster=None,\n",
                            "                                           callbacks=None,\n",
                            "                                           colsample_bylevel=None,\n",
                            "                                           colsample_bynode=None,\n",
                            "                                           colsample_bytree=1.0, device=None,\n",
                            "                                           early_stopping_rounds=None,\n",
                            "                                           enable_categorical=False,\n",
                            "                                           eval_metric=None, feature_types=None,\n",
                            "                                           gamma=5, grow_policy=None,\n",
                            "                                           importance_type=None,\n",
                            "                                           interaction_constraints=None,\n",
                            "                                           learning_rate=0.2...\n",
                            "                                           min_samples_split=10, missing=nan,\n",
                            "                                           monotone_constraints=None,\n",
                            "                                           multi_strategy=None,\n",
                            "                                           n_estimators=200, ...),\n",
                            "                   param_distributions={&#x27;colsample_bytree&#x27;: [0.8, 1.0],\n",
                            "                                        &#x27;gamma&#x27;: [0, 1, 5],\n",
                            "                                        &#x27;learning_rate&#x27;: [0.1, 0.01, 0.2],\n",
                            "                                        &#x27;max_depth&#x27;: [3, 5, 7],\n",
                            "                                        &#x27;max_features&#x27;: [&#x27;sqrt&#x27;, 0.5, 0.7],\n",
                            "                                        &#x27;min_samples_leaf&#x27;: [1, 2, 4],\n",
                            "                                        &#x27;min_samples_split&#x27;: [2, 5, 10],\n",
                            "                                        &#x27;n_estimators&#x27;: [50, 100, 200],\n",
                            "                                        &#x27;subsample&#x27;: [0.8, 0.9, 1.0]},\n",
                            "                   random_state=71)</pre><b>In a Jupyter environment, please rerun this cell to show the HTML representation or trust the notebook. <br />On GitHub, the HTML representation is unable to render, please try loading this page with nbviewer.org.</b></div><div class=\"sk-container\" hidden><div class=\"sk-item sk-dashed-wrapped\"><div class=\"sk-label-container\"><div class=\"sk-label sk-toggleable\"><input class=\"sk-toggleable__control sk-hidden--visually\" id=\"sk-estimator-id-25\" type=\"checkbox\" ><label for=\"sk-estimator-id-25\" class=\"sk-toggleable__label sk-toggleable__label-arrow\">RandomizedSearchCV</label><div class=\"sk-toggleable__content\"><pre>RandomizedSearchCV(cv=5,\n",
                            "                   estimator=XGBClassifier(base_score=None, booster=None,\n",
                            "                                           callbacks=None,\n",
                            "                                           colsample_bylevel=None,\n",
                            "                                           colsample_bynode=None,\n",
                            "                                           colsample_bytree=1.0, device=None,\n",
                            "                                           early_stopping_rounds=None,\n",
                            "                                           enable_categorical=False,\n",
                            "                                           eval_metric=None, feature_types=None,\n",
                            "                                           gamma=5, grow_policy=None,\n",
                            "                                           importance_type=None,\n",
                            "                                           interaction_constraints=None,\n",
                            "                                           learning_rate=0.2...\n",
                            "                                           min_samples_split=10, missing=nan,\n",
                            "                                           monotone_constraints=None,\n",
                            "                                           multi_strategy=None,\n",
                            "                                           n_estimators=200, ...),\n",
                            "                   param_distributions={&#x27;colsample_bytree&#x27;: [0.8, 1.0],\n",
                            "                                        &#x27;gamma&#x27;: [0, 1, 5],\n",
                            "                                        &#x27;learning_rate&#x27;: [0.1, 0.01, 0.2],\n",
                            "                                        &#x27;max_depth&#x27;: [3, 5, 7],\n",
                            "                                        &#x27;max_features&#x27;: [&#x27;sqrt&#x27;, 0.5, 0.7],\n",
                            "                                        &#x27;min_samples_leaf&#x27;: [1, 2, 4],\n",
                            "                                        &#x27;min_samples_split&#x27;: [2, 5, 10],\n",
                            "                                        &#x27;n_estimators&#x27;: [50, 100, 200],\n",
                            "                                        &#x27;subsample&#x27;: [0.8, 0.9, 1.0]},\n",
                            "                   random_state=71)</pre></div></div></div><div class=\"sk-parallel\"><div class=\"sk-parallel-item\"><div class=\"sk-item\"><div class=\"sk-label-container\"><div class=\"sk-label sk-toggleable\"><input class=\"sk-toggleable__control sk-hidden--visually\" id=\"sk-estimator-id-26\" type=\"checkbox\" ><label for=\"sk-estimator-id-26\" class=\"sk-toggleable__label sk-toggleable__label-arrow\">estimator: XGBClassifier</label><div class=\"sk-toggleable__content\"><pre>XGBClassifier(base_score=None, booster=None, callbacks=None,\n",
                            "              colsample_bylevel=None, colsample_bynode=None,\n",
                            "              colsample_bytree=1.0, device=None, early_stopping_rounds=None,\n",
                            "              enable_categorical=False, eval_metric=None, feature_types=None,\n",
                            "              gamma=5, grow_policy=None, importance_type=None,\n",
                            "              interaction_constraints=None, learning_rate=0.2, max_bin=None,\n",
                            "              max_cat_threshold=None, max_cat_to_onehot=None,\n",
                            "              max_delta_step=None, max_depth=7, max_features=0.7,\n",
                            "              max_leaves=None, min_child_weight=None, min_samples_leaf=4,\n",
                            "              min_samples_split=10, missing=nan, monotone_constraints=None,\n",
                            "              multi_strategy=None, n_estimators=200, ...)</pre></div></div></div><div class=\"sk-serial\"><div class=\"sk-item\"><div class=\"sk-estimator sk-toggleable\"><input class=\"sk-toggleable__control sk-hidden--visually\" id=\"sk-estimator-id-27\" type=\"checkbox\" ><label for=\"sk-estimator-id-27\" class=\"sk-toggleable__label sk-toggleable__label-arrow\">XGBClassifier</label><div class=\"sk-toggleable__content\"><pre>XGBClassifier(base_score=None, booster=None, callbacks=None,\n",
                            "              colsample_bylevel=None, colsample_bynode=None,\n",
                            "              colsample_bytree=1.0, device=None, early_stopping_rounds=None,\n",
                            "              enable_categorical=False, eval_metric=None, feature_types=None,\n",
                            "              gamma=5, grow_policy=None, importance_type=None,\n",
                            "              interaction_constraints=None, learning_rate=0.2, max_bin=None,\n",
                            "              max_cat_threshold=None, max_cat_to_onehot=None,\n",
                            "              max_delta_step=None, max_depth=7, max_features=0.7,\n",
                            "              max_leaves=None, min_child_weight=None, min_samples_leaf=4,\n",
                            "              min_samples_split=10, missing=nan, monotone_constraints=None,\n",
                            "              multi_strategy=None, n_estimators=200, ...)</pre></div></div></div></div></div></div></div></div></div></div>"
                        ],
                        "text/plain": [
                            "RandomizedSearchCV(cv=5,\n",
                            "                   estimator=XGBClassifier(base_score=None, booster=None,\n",
                            "                                           callbacks=None,\n",
                            "                                           colsample_bylevel=None,\n",
                            "                                           colsample_bynode=None,\n",
                            "                                           colsample_bytree=1.0, device=None,\n",
                            "                                           early_stopping_rounds=None,\n",
                            "                                           enable_categorical=False,\n",
                            "                                           eval_metric=None, feature_types=None,\n",
                            "                                           gamma=5, grow_policy=None,\n",
                            "                                           importance_type=None,\n",
                            "                                           interaction_constraints=None,\n",
                            "                                           learning_rate=0.2...\n",
                            "                                           min_samples_split=10, missing=nan,\n",
                            "                                           monotone_constraints=None,\n",
                            "                                           multi_strategy=None,\n",
                            "                                           n_estimators=200, ...),\n",
                            "                   param_distributions={'colsample_bytree': [0.8, 1.0],\n",
                            "                                        'gamma': [0, 1, 5],\n",
                            "                                        'learning_rate': [0.1, 0.01, 0.2],\n",
                            "                                        'max_depth': [3, 5, 7],\n",
                            "                                        'max_features': ['sqrt', 0.5, 0.7],\n",
                            "                                        'min_samples_leaf': [1, 2, 4],\n",
                            "                                        'min_samples_split': [2, 5, 10],\n",
                            "                                        'n_estimators': [50, 100, 200],\n",
                            "                                        'subsample': [0.8, 0.9, 1.0]},\n",
                            "                   random_state=71)"
                        ]
                    },
                    "execution_count": 166,
                    "metadata": {},
                    "output_type": "execute_result"
                }
            ],
            "source": [
                "from sklearn.model_selection import RandomizedSearchCV\n",
                "\n",
                "# Initialise the model and the RandomizedSearchCV object\n",
                "random_search = RandomizedSearchCV(model, param_distributions=hyperparams, n_iter=10, cv=5, random_state=71)\n",
                "\n",
                "random_search.fit(X_train, y_train)"
            ]
        },
        {
            "cell_type": "code",
            "execution_count": 167,
            "metadata": {},
            "outputs": [
                {
                    "name": "stdout",
                    "output_type": "stream",
                    "text": [
                        "[1 1 0 0 1 1 0 0 0 0 0 0 1 0 0 1 0 1 0 0 0 0 0 0 1 0 0 0 1 1 0 0 0 0 0 0 0\n",
                        " 0 0 0 0 0 1 0 0 0 0 0 0 0 0 0 0 0 1 0 0 0 0 0 0 1 0 1 0 1 0 0 0 0 0 0 0 1\n",
                        " 0 0 1 0 0 0 1 1 0 0 0 1 0 0 1 1 1 1 0 1 0 0 0 0 0 0 0 1 0 0 0 0 0 0 0 0 0\n",
                        " 1 0 0 0 0 0 0 0 0 0]\n",
                        "[1 1 0 0 0 0 0 0 0 0 1 0 0 0 0 0 0 0 0 1 0 0 1 0 0 1 0 0 0 0 1 0 0 1 0 0 0\n",
                        " 1 0 0 0 0 1 0 0 0 1 0 1 0 1 0 1 0 0 0 0 1 1 1 1 1 0 1 0 0 0 1 0 0 1 1 0 0\n",
                        " 0 0 0 0 0 0 0 0 0 0 0 0 0 0 0 1 0 1 0 1 0 0 0 0 1 1 1 0 0 1 1 0 0 1 1 0 0\n",
                        " 0 1 0 0 1 0 1 1 0 0 0 0 0 0 0 1 1 1 0 1 0 1 1 0 0 0 0 0 1 0 0 0 0 0 0 0 0\n",
                        " 0 0 0 0 0 0 0 1 0 0 0 0 0 0 1 0 1 1 0 1 0 0 0 1 1 0 0 0 0 0 0 0 0 1 0 1 1\n",
                        " 1 1 1 0 0 0 0 0 1 0 0 1 0 0 1 0 0 0 0 0 0 0 1 0 0 0 0 1 0 0 0 0 0 1 0 1 1\n",
                        " 0 0 1 0 0 0 0 0 0 1 0 0 0 0 0 1 1 0 0 0 0 0 0 0 0 0 0 1 0 0 1 0 0 0 1 0 0\n",
                        " 0 0 1 1 0 0 1 0 1 0 1 0 1 0 1 0 0 0 0 0 0 0 0 0 0 1 0 0 0 0 1 0 0 0 0 0 0\n",
                        " 0 0 0 0 0 0 1 1 0 0 0 0 0 0 0 0 0 0 1 0 0 0 0 0 0 0 1 0 0 0 0 1 0 0 0 0 1\n",
                        " 0 0 0 1 0 0 0 0 1 0 0 1 0 1 1 0 0 0 0 0 0 0 1 0 0 0 0 0 0 0 1 1 1 0 0 1 0\n",
                        " 0 0 0 0 0 1 1 0 0 0 1 1 0 0 0 1 0 1 1 0 0 0 1 0 0 1 1 0 0 1 1 0 0 0 0 0 0\n",
                        " 0 0 0 1 0 0 0 1 0 0 0 1 0 0 0 0 0 0 1 1 1 0 0 0 0 0 1 1 0 0 0 1 1 1 0 0 0\n",
                        " 0 1 0 0 1 0 0 1 1 1 1 0 0 0 0 1 0 0 0 0 0 0 1 1 1 0 0 0 0 0 0 0 0 0 0 0 0\n",
                        " 0 0 0]\n"
                    ]
                }
            ],
            "source": [
                "# Predictions in the test set and training set\n",
                "y_pred_test = model.predict(X_test)\n",
                "y_pred_train = model.predict(X_train)\n",
                "\n",
                "# Print predictions\n",
                "print(y_pred_test)\n",
                "print(y_pred_train)"
            ]
        },
        {
            "cell_type": "code",
            "execution_count": 169,
            "metadata": {},
            "outputs": [
                {
                    "name": "stdout",
                    "output_type": "stream",
                    "text": [
                        "Best hyperparameters: {'colsample_bytree': 1.0, 'gamma': 5, 'learning_rate': 0.1, 'max_depth': 7, 'max_features': 'sqrt', 'min_samples_leaf': 1, 'min_samples_split': 2, 'n_estimators': 200, 'subsample': 0.8}\n"
                    ]
                }
            ],
            "source": [
                "# Obtain the best hyperparameters\n",
                "from sklearn.model_selection import GridSearchCV\n",
                "\n",
                "grid = GridSearchCV(model, hyperparams, scoring='accuracy', cv=5)\n",
                "\n",
                "# Hide warnings to keep the code clean\n",
                "def warn(*args, **kwargs):\n",
                "    pass\n",
                "import warnings\n",
                "warnings.warn = warn\n",
                "\n",
                "# Perform grid search\n",
                "grid.fit(X_train, y_train)\n",
                "\n",
                "# Obtain the best hyperparameters found\n",
                "best_hyperparams = grid.best_params_\n",
                "\n",
                "# Prints the best combination of hyperparameters \n",
                "print(f\"Best hyperparameters: {grid.best_params_}\")"
            ]
        },
        {
            "cell_type": "code",
            "execution_count": 170,
            "metadata": {},
            "outputs": [
                {
                    "name": "stdout",
                    "output_type": "stream",
                    "text": [
                        "Accuracy Test: 0.7933884297520661 \n",
                        "Accuracy Train: 0.8615702479338843\n"
                    ]
                }
            ],
            "source": [
                "# Calculate the accuracy in the test set\n",
                "accuracy_test = accuracy_score(y_test, y_pred_test)\n",
                "\n",
                "# Calculate the accuracy in the training set\n",
                "accuracy_train =accuracy_score(y_train, y_pred_train)\n",
                "\n",
                "print(\"Accuracy Test:\", accuracy_test, \"\\nAccuracy Train:\", accuracy_train)"
            ]
        },
        {
            "cell_type": "code",
            "execution_count": 171,
            "metadata": {},
            "outputs": [
                {
                    "data": {
                        "text/html": [
                            "<div>\n",
                            "<style scoped>\n",
                            "    .dataframe tbody tr th:only-of-type {\n",
                            "        vertical-align: middle;\n",
                            "    }\n",
                            "\n",
                            "    .dataframe tbody tr th {\n",
                            "        vertical-align: top;\n",
                            "    }\n",
                            "\n",
                            "    .dataframe thead th {\n",
                            "        text-align: right;\n",
                            "    }\n",
                            "</style>\n",
                            "<table border=\"1\" class=\"dataframe\">\n",
                            "  <thead>\n",
                            "    <tr style=\"text-align: right;\">\n",
                            "      <th></th>\n",
                            "      <th>mean_fit_time</th>\n",
                            "      <th>std_fit_time</th>\n",
                            "      <th>mean_score_time</th>\n",
                            "      <th>std_score_time</th>\n",
                            "      <th>param_colsample_bytree</th>\n",
                            "      <th>param_gamma</th>\n",
                            "      <th>param_learning_rate</th>\n",
                            "      <th>param_max_depth</th>\n",
                            "      <th>param_max_features</th>\n",
                            "      <th>param_min_samples_leaf</th>\n",
                            "      <th>...</th>\n",
                            "      <th>param_subsample</th>\n",
                            "      <th>params</th>\n",
                            "      <th>split0_test_score</th>\n",
                            "      <th>split1_test_score</th>\n",
                            "      <th>split2_test_score</th>\n",
                            "      <th>split3_test_score</th>\n",
                            "      <th>split4_test_score</th>\n",
                            "      <th>mean_test_score</th>\n",
                            "      <th>std_test_score</th>\n",
                            "      <th>rank_test_score</th>\n",
                            "    </tr>\n",
                            "  </thead>\n",
                            "  <tbody>\n",
                            "    <tr>\n",
                            "      <th>0</th>\n",
                            "      <td>0.021834</td>\n",
                            "      <td>0.004378</td>\n",
                            "      <td>0.004221</td>\n",
                            "      <td>0.000245</td>\n",
                            "      <td>0.8</td>\n",
                            "      <td>0</td>\n",
                            "      <td>0.1</td>\n",
                            "      <td>3</td>\n",
                            "      <td>sqrt</td>\n",
                            "      <td>1</td>\n",
                            "      <td>...</td>\n",
                            "      <td>0.8</td>\n",
                            "      <td>{'colsample_bytree': 0.8, 'gamma': 0, 'learnin...</td>\n",
                            "      <td>0.804124</td>\n",
                            "      <td>0.711340</td>\n",
                            "      <td>0.804124</td>\n",
                            "      <td>0.783505</td>\n",
                            "      <td>0.760417</td>\n",
                            "      <td>0.772702</td>\n",
                            "      <td>0.034663</td>\n",
                            "      <td>3214</td>\n",
                            "    </tr>\n",
                            "    <tr>\n",
                            "      <th>1</th>\n",
                            "      <td>0.020946</td>\n",
                            "      <td>0.004419</td>\n",
                            "      <td>0.004205</td>\n",
                            "      <td>0.000232</td>\n",
                            "      <td>0.8</td>\n",
                            "      <td>0</td>\n",
                            "      <td>0.1</td>\n",
                            "      <td>3</td>\n",
                            "      <td>sqrt</td>\n",
                            "      <td>1</td>\n",
                            "      <td>...</td>\n",
                            "      <td>0.9</td>\n",
                            "      <td>{'colsample_bytree': 0.8, 'gamma': 0, 'learnin...</td>\n",
                            "      <td>0.835052</td>\n",
                            "      <td>0.711340</td>\n",
                            "      <td>0.793814</td>\n",
                            "      <td>0.783505</td>\n",
                            "      <td>0.770833</td>\n",
                            "      <td>0.778909</td>\n",
                            "      <td>0.040065</td>\n",
                            "      <td>811</td>\n",
                            "    </tr>\n",
                            "    <tr>\n",
                            "      <th>2</th>\n",
                            "      <td>0.017457</td>\n",
                            "      <td>0.000459</td>\n",
                            "      <td>0.004701</td>\n",
                            "      <td>0.001343</td>\n",
                            "      <td>0.8</td>\n",
                            "      <td>0</td>\n",
                            "      <td>0.1</td>\n",
                            "      <td>3</td>\n",
                            "      <td>sqrt</td>\n",
                            "      <td>1</td>\n",
                            "      <td>...</td>\n",
                            "      <td>1.0</td>\n",
                            "      <td>{'colsample_bytree': 0.8, 'gamma': 0, 'learnin...</td>\n",
                            "      <td>0.835052</td>\n",
                            "      <td>0.701031</td>\n",
                            "      <td>0.804124</td>\n",
                            "      <td>0.762887</td>\n",
                            "      <td>0.781250</td>\n",
                            "      <td>0.776869</td>\n",
                            "      <td>0.044931</td>\n",
                            "      <td>1324</td>\n",
                            "    </tr>\n",
                            "    <tr>\n",
                            "      <th>3</th>\n",
                            "      <td>0.027237</td>\n",
                            "      <td>0.000304</td>\n",
                            "      <td>0.003964</td>\n",
                            "      <td>0.000042</td>\n",
                            "      <td>0.8</td>\n",
                            "      <td>0</td>\n",
                            "      <td>0.1</td>\n",
                            "      <td>3</td>\n",
                            "      <td>sqrt</td>\n",
                            "      <td>1</td>\n",
                            "      <td>...</td>\n",
                            "      <td>0.8</td>\n",
                            "      <td>{'colsample_bytree': 0.8, 'gamma': 0, 'learnin...</td>\n",
                            "      <td>0.824742</td>\n",
                            "      <td>0.690722</td>\n",
                            "      <td>0.793814</td>\n",
                            "      <td>0.742268</td>\n",
                            "      <td>0.750000</td>\n",
                            "      <td>0.760309</td>\n",
                            "      <td>0.045931</td>\n",
                            "      <td>8074</td>\n",
                            "    </tr>\n",
                            "    <tr>\n",
                            "      <th>4</th>\n",
                            "      <td>0.027979</td>\n",
                            "      <td>0.000555</td>\n",
                            "      <td>0.004224</td>\n",
                            "      <td>0.000426</td>\n",
                            "      <td>0.8</td>\n",
                            "      <td>0</td>\n",
                            "      <td>0.1</td>\n",
                            "      <td>3</td>\n",
                            "      <td>sqrt</td>\n",
                            "      <td>1</td>\n",
                            "      <td>...</td>\n",
                            "      <td>0.9</td>\n",
                            "      <td>{'colsample_bytree': 0.8, 'gamma': 0, 'learnin...</td>\n",
                            "      <td>0.804124</td>\n",
                            "      <td>0.711340</td>\n",
                            "      <td>0.742268</td>\n",
                            "      <td>0.731959</td>\n",
                            "      <td>0.729167</td>\n",
                            "      <td>0.743771</td>\n",
                            "      <td>0.031778</td>\n",
                            "      <td>11368</td>\n",
                            "    </tr>\n",
                            "  </tbody>\n",
                            "</table>\n",
                            "<p>5 rows × 22 columns</p>\n",
                            "</div>"
                        ],
                        "text/plain": [
                            "   mean_fit_time  std_fit_time  mean_score_time  std_score_time  \\\n",
                            "0       0.021834      0.004378         0.004221        0.000245   \n",
                            "1       0.020946      0.004419         0.004205        0.000232   \n",
                            "2       0.017457      0.000459         0.004701        0.001343   \n",
                            "3       0.027237      0.000304         0.003964        0.000042   \n",
                            "4       0.027979      0.000555         0.004224        0.000426   \n",
                            "\n",
                            "  param_colsample_bytree param_gamma param_learning_rate param_max_depth  \\\n",
                            "0                    0.8           0                 0.1               3   \n",
                            "1                    0.8           0                 0.1               3   \n",
                            "2                    0.8           0                 0.1               3   \n",
                            "3                    0.8           0                 0.1               3   \n",
                            "4                    0.8           0                 0.1               3   \n",
                            "\n",
                            "  param_max_features param_min_samples_leaf  ... param_subsample  \\\n",
                            "0               sqrt                      1  ...             0.8   \n",
                            "1               sqrt                      1  ...             0.9   \n",
                            "2               sqrt                      1  ...             1.0   \n",
                            "3               sqrt                      1  ...             0.8   \n",
                            "4               sqrt                      1  ...             0.9   \n",
                            "\n",
                            "                                              params split0_test_score  \\\n",
                            "0  {'colsample_bytree': 0.8, 'gamma': 0, 'learnin...          0.804124   \n",
                            "1  {'colsample_bytree': 0.8, 'gamma': 0, 'learnin...          0.835052   \n",
                            "2  {'colsample_bytree': 0.8, 'gamma': 0, 'learnin...          0.835052   \n",
                            "3  {'colsample_bytree': 0.8, 'gamma': 0, 'learnin...          0.824742   \n",
                            "4  {'colsample_bytree': 0.8, 'gamma': 0, 'learnin...          0.804124   \n",
                            "\n",
                            "  split1_test_score  split2_test_score  split3_test_score  split4_test_score  \\\n",
                            "0          0.711340           0.804124           0.783505           0.760417   \n",
                            "1          0.711340           0.793814           0.783505           0.770833   \n",
                            "2          0.701031           0.804124           0.762887           0.781250   \n",
                            "3          0.690722           0.793814           0.742268           0.750000   \n",
                            "4          0.711340           0.742268           0.731959           0.729167   \n",
                            "\n",
                            "   mean_test_score  std_test_score  rank_test_score  \n",
                            "0         0.772702        0.034663             3214  \n",
                            "1         0.778909        0.040065              811  \n",
                            "2         0.776869        0.044931             1324  \n",
                            "3         0.760309        0.045931             8074  \n",
                            "4         0.743771        0.031778            11368  \n",
                            "\n",
                            "[5 rows x 22 columns]"
                        ]
                    },
                    "execution_count": 171,
                    "metadata": {},
                    "output_type": "execute_result"
                }
            ],
            "source": [
                "# Create a DataFrame with the search results in a grid\n",
                "cv_results = pd.DataFrame(grid.cv_results_)\n",
                "cv_results.head()"
            ]
        },
        {
            "cell_type": "code",
            "execution_count": 174,
            "metadata": {},
            "outputs": [
                {
                    "data": {
                        "image/png": "[encoded data removed]",
                        "text/plain": [
                            "<Figure size 1500x800 with 1 Axes>"
                        ]
                    },
                    "metadata": {},
                    "output_type": "display_data"
                }
            ],
            "source": [
                "# Create a single graph\n",
                "fig, ax = plt.subplots(figsize=(15, 8))\n",
                "\n",
                "hyperparams_to_plot = list(best_hyperparams.keys())\n",
                "\n",
                "for param_to_plot in hyperparams_to_plot:\n",
                "    # Check if expected column exists in cv_results\n",
                "    if f'param_{param_to_plot}' in cv_results.columns:\n",
                "        param_results = cv_results[cv_results[f'param_{param_to_plot}'] == best_hyperparams[param_to_plot]]\n",
                "\n",
                "        # Plot results only if there is data for the hyperparameter\n",
                "        if not param_results.empty:\n",
                "            ax.plot(param_results[f'param_{param_to_plot}'], param_results['mean_test_score'], marker='o', label=f'{param_to_plot}')\n",
                "\n",
                "# Marking the best combination\n",
                "ax.scatter(best_hyperparams[param_to_plot], grid.best_score_, color='blue', label='Best combination')\n",
                "\n",
                "ax.set_title('Mean Test Score vs Hyperparameters')\n",
                "ax.set_xlabel('Hyperparameter Values')\n",
                "ax.set_ylabel('Mean Test Score (Accuracy)')\n",
                "ax.legend()\n",
                "\n",
                "plt.show()"
            ]
        },
        {
            "cell_type": "markdown",
            "metadata": {},
            "source": [
                "**Save model with hyperparam**"
            ]
        },
        {
            "cell_type": "code",
            "execution_count": 175,
            "metadata": {},
            "outputs": [],
            "source": [
                "model.save_model('../models/xgb_regressor_11.json')"
            ]
        }
    ],
    "metadata": {
        "kernelspec": {
            "display_name": "Python 3.8.13 64-bit ('3.8.13')",
            "language": "python",
            "name": "python3"
        },
        "language_info": {
            "codemirror_mode": {
                "name": "ipython",
                "version": 3
            },
            "file_extension": ".py",
            "mimetype": "text/x-python",
            "name": "python",
            "nbconvert_exporter": "python",
            "pygments_lexer": "ipython3",
            "version": "3.11.4"
        },
        "orig_nbformat": 4,
        "vscode": {
            "interpreter": {
                "hash": "110cc1dee26208153f2972f08a2ad52b6a56238dc66d48e87fb757ef2996db56"
            }
        }
    },
    "nbformat": 4,
    "nbformat_minor": 2
}
